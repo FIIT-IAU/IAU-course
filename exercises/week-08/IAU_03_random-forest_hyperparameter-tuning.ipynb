{
 "cells": [
  {
   "cell_type": "code",
   "metadata": {
    "ExecuteTime": {
     "end_time": "2025-02-27T09:50:52.183660Z",
     "start_time": "2025-02-27T09:50:52.174666Z"
    }
   },
   "source": [
    "# -*- coding: utf-8 -*-\n",
    "#\n",
    "# Licensed under the Apache License, Version 2.0 (the \"License\");\n",
    "# you may not use this file except in compliance with the License.\n",
    "# You may obtain a copy of the License at\n",
    "#\n",
    "# http://www.apache.org/licenses/LICENSE-2.0\n",
    "#\n",
    "# Unless required by applicable law or agreed to in writing, software\n",
    "# distributed under the License is distributed on an \"AS IS\" BASIS,\n",
    "# WITHOUT WARRANTIES OR CONDITIONS OF ANY KIND, either express or\n",
    "# implied.\n",
    "# See the License for the specific language governing permissions and\n",
    "# limitations under the License.\n",
    "#"
   ],
   "outputs": [],
   "execution_count": 1
  },
  {
   "cell_type": "markdown",
   "metadata": {},
   "source": [
    "# Hyperparameter tuning with Random Forest\n",
    "\n",
    "Hyperparameter tuning is the process of optimizing model parameters to improve performance.\n",
    "Random forest is an ensemble learning method that builds multiple decision trees and merges their predictions for more robust and accurate results.\n",
    "\n",
    "Based on https://towardsdatascience.com/optimizing-hyperparameters-in-random-forest-classification-ec7741f9d3f6"
   ]
  },
  {
   "cell_type": "code",
   "metadata": {
    "ExecuteTime": {
     "end_time": "2025-02-27T09:50:52.619677Z",
     "start_time": "2025-02-27T09:50:52.202409Z"
    }
   },
   "source": [
    "import pandas as pd\n",
    "import numpy as np\n",
    "import matplotlib.pyplot as plt\n",
    "import seaborn\n",
    "\n",
    "# set default figure size for plots\n",
    "plt.rcParams['figure.figsize'] = 9, 6\n",
    "\n",
    "from sklearn.model_selection import train_test_split\n",
    "from sklearn.ensemble import RandomForestClassifier\n",
    "from sklearn.model_selection import GridSearchCV\n",
    "from sklearn.metrics import accuracy_score\n",
    "from sklearn.model_selection import validation_curve\n",
    "\n",
    "# turn off all kinds of warnings\n",
    "# import warnings\n",
    "# warnings.filterwarnings(\"ignore\")"
   ],
   "outputs": [],
   "execution_count": 2
  },
  {
   "cell_type": "markdown",
   "metadata": {},
   "source": [
    "## Plotting function\n",
    "\n",
    "\n",
    "This function plots the validation curve showing training and cross-validation scores.\n",
    "Tt helps visualize the effect of changing a hyperparameter on model performance."
   ]
  },
  {
   "cell_type": "code",
   "metadata": {
    "ExecuteTime": {
     "end_time": "2025-02-27T09:50:52.780161Z",
     "start_time": "2025-02-27T09:50:52.758696Z"
    }
   },
   "source": [
    "def plot_valid_curve(param_range, train_scores_mean, train_scores_std, test_scores_mean, test_scores_std):\n",
    "    plt.title(\"validation Curve\")\n",
    "    plt.xlabel(r\"$\\gamma$\")\n",
    "    plt.ylabel(\"Score\")\n",
    "    plt.ylim(0.991, 1.001)\n",
    "    lw = 2\n",
    "    plt.semilogx(param_range, \n",
    "                 train_scores_mean, \n",
    "                 label=\"Training score\",\n",
    "                 color=\"darkorange\", \n",
    "                 lw=lw\n",
    "                )\n",
    "    plt.fill_between(param_range, \n",
    "                     train_scores_mean - train_scores_std,\n",
    "                     train_scores_mean + train_scores_std, \n",
    "                     alpha=0.2,\n",
    "                     color=\"darkorange\", \n",
    "                     lw=lw\n",
    "                    )\n",
    "    plt.semilogx(param_range, \n",
    "                 test_scores_mean, \n",
    "                 label=\"Cross-validation score\",\n",
    "                 color=\"navy\", \n",
    "                 lw=lw\n",
    "                )\n",
    "    plt.fill_between(param_range, \n",
    "                     test_scores_mean - test_scores_std,\n",
    "                     test_scores_mean + test_scores_std, \n",
    "                     alpha=0.2,\n",
    "                     color=\"navy\", \n",
    "                     lw=lw\n",
    "                    )\n",
    "    plt.legend(loc=\"best\")    \n",
    "    return"
   ],
   "outputs": [],
   "execution_count": 3
  },
  {
   "cell_type": "markdown",
   "metadata": {},
   "source": [
    "## Wine dataset with split ratio 65:35\n",
    "\n",
    "This example uses the wine quality dataset from the uci repository.\n",
    "It combines red and white wines and adds a `color` target column for classification.\n",
    "\n",
    ">Database Link: https://archive.ics.uci.edu/ml/datasets/wine+quality"
   ]
  },
  {
   "cell_type": "code",
   "metadata": {
    "ExecuteTime": {
     "end_time": "2025-02-27T09:50:52.859177Z",
     "start_time": "2025-02-27T09:50:52.814873Z"
    }
   },
   "source": [
    "red = pd.read_csv('data/winequality-red.csv', delimiter=';')\n",
    "red['color'] = 1\n",
    "\n",
    "white = pd.read_csv('data/winequality-white.csv', delimiter=';')\n",
    "white['color'] = 0\n",
    "\n",
    "data = pd.concat([red, white], ignore_index=True, sort=False)\n",
    "n_samples, n_features = data.shape\n",
    "n_samples, n_features"
   ],
   "outputs": [
    {
     "data": {
      "text/plain": [
       "(6497, 13)"
      ]
     },
     "execution_count": 4,
     "metadata": {},
     "output_type": "execute_result"
    }
   ],
   "execution_count": 4
  },
  {
   "cell_type": "markdown",
   "metadata": {},
   "source": [
    "#### Add noisy columns (simulate real data)\n",
    "\n",
    "Adding additional noisy features to simulate a more realistic scenario.\n",
    "This increases the number of features and complexity for hyperparameter tuning."
   ]
  },
  {
   "cell_type": "code",
   "metadata": {
    "ExecuteTime": {
     "end_time": "2025-02-27T09:50:52.940014Z",
     "start_time": "2025-02-27T09:50:52.866191Z"
    }
   },
   "source": [
    "# you can try a change to 100 to see the computational effect\n",
    "n_cols = 20 * n_features\n",
    "random_state = np.random.RandomState(0)\n",
    "df_cols = pd.DataFrame(data=random_state.randn(n_samples, n_cols),\n",
    "                       columns=range(1, n_cols+1)\n",
    "                      )\n",
    "print(df_cols.shape)\n",
    "\n",
    "data = pd.concat([data, df_cols], axis=1)\n",
    "data.columns = data.columns.astype(str)\n",
    "# data.head(10)\n",
    "data.shape"
   ],
   "outputs": [
    {
     "name": "stdout",
     "output_type": "stream",
     "text": [
      "(6497, 260)\n"
     ]
    },
    {
     "data": {
      "text/plain": [
       "(6497, 273)"
      ]
     },
     "execution_count": 5,
     "metadata": {},
     "output_type": "execute_result"
    }
   ],
   "execution_count": 5
  },
  {
   "cell_type": "markdown",
   "metadata": {},
   "source": [
    "#### Split dataset\n",
    "\n",
    "Splitting the dataset into training and testing sets is crucial for evaluating model generalization.\n",
    "Here we use a 65:35 split. _You can experiment with different ratios_."
   ]
  },
  {
   "cell_type": "code",
   "metadata": {
    "ExecuteTime": {
     "end_time": "2025-02-27T09:50:53.040702Z",
     "start_time": "2025-02-27T09:50:52.988946Z"
    }
   },
   "source": [
    "train, test = train_test_split(data, test_size=0.35, shuffle=True, stratify=None)\n",
    "print(len(train), len(test))\n",
    "\n",
    "x_train, y_train = train.loc[:, train.columns != 'color'], train['color']\n",
    "x_test, y_test = test.loc[:, test.columns != 'color'], test['color']"
   ],
   "outputs": [
    {
     "name": "stdout",
     "output_type": "stream",
     "text": [
      "4223 2274\n"
     ]
    }
   ],
   "execution_count": 6
  },
  {
   "cell_type": "markdown",
   "metadata": {},
   "source": [
    "### Random Forest Classifier\n",
    "\n",
    "Random forest by default uses 100 trees (`n_estimators=100`).\n",
    "It aggregates multiple decision trees to reduce overfitting and improve accuracy."
   ]
  },
  {
   "cell_type": "code",
   "metadata": {
    "ExecuteTime": {
     "end_time": "2025-02-27T09:51:03.228009Z",
     "start_time": "2025-02-27T09:50:53.120423Z"
    }
   },
   "source": [
    "forest = RandomForestClassifier(random_state=1)\n",
    "model = forest.fit(x_train, y_train)\n",
    "y_pred = model.predict(x_test)\n",
    "\n",
    "print(\"accuracy:\", accuracy_score(y_test, y_pred))"
   ],
   "outputs": [
    {
     "name": "stdout",
     "output_type": "stream",
     "text": [
      "accuracy 0.9929639401934917\n"
     ]
    }
   ],
   "execution_count": 7
  },
  {
   "cell_type": "markdown",
   "metadata": {},
   "source": [
    "## Hyperparameter *n_estimators* tuning\n",
    "\n",
    "Tuning `n_estimators` changes the number of trees in the forest, affecting both performance and computation.\n",
    "\n",
    ">! Note: long-running time - a few minutes.\n"
   ]
  },
  {
   "cell_type": "code",
   "metadata": {
    "ExecuteTime": {
     "end_time": "2025-02-27T09:51:57.669959Z",
     "start_time": "2025-02-27T09:51:03.346871Z"
    }
   },
   "source": [
    "# param_range = [100, 200, 300, 400, 500]\n",
    "param_range = [100, 200]\n",
    "\n",
    "train_scores, test_scores = validation_curve(RandomForestClassifier(),\n",
    "                                             X = x_train, \n",
    "                                             y = y_train, \n",
    "                                             param_name = 'n_estimators', \n",
    "                                             param_range = param_range, \n",
    "                                             scoring=\"accuracy\",\n",
    "                                             cv = 3\n",
    "                                            )\n",
    "train_scores_mean = np.mean(train_scores, axis=1)\n",
    "train_scores_std = np.std(train_scores, axis=1)\n",
    "test_scores_mean = np.mean(test_scores, axis=1)\n",
    "test_scores_std = np.std(test_scores, axis=1)\n",
    "\n",
    "print(train_scores)\n",
    "print(test_scores)"
   ],
   "outputs": [
    {
     "name": "stdout",
     "output_type": "stream",
     "text": [
      "[[1. 1. 1.]\n",
      " [1. 1. 1.]]\n",
      "[[0.98721591 0.98721591 0.98933902]\n",
      " [0.98721591 0.98934659 0.98791756]]\n"
     ]
    }
   ],
   "execution_count": 8
  },
  {
   "cell_type": "markdown",
   "metadata": {},
   "source": [
    "## Plotting\n",
    "\n",
    "The validation curve is plotted to compare training and cross-validation performance.\n",
    "It assists in identifying the optimal number of estimators."
   ]
  },
  {
   "cell_type": "code",
   "metadata": {
    "ExecuteTime": {
     "end_time": "2025-02-27T09:51:58.082201Z",
     "start_time": "2025-02-27T09:51:57.721106Z"
    }
   },
   "source": [
    "plot_valid_curve(param_range, train_scores_mean, train_scores_std, test_scores_mean, test_scores_std)"
   ],
   "outputs": [
    {
     "data": {
      "text/plain": [
       "<Figure size 900x600 with 1 Axes>"
      ],
      "image/png": "[encoded data removed]"
     },
     "metadata": {},
     "output_type": "display_data"
    }
   ],
   "execution_count": 9
  },
  {
   "cell_type": "markdown",
   "metadata": {},
   "source": [
    "## Random Forest with hyperparameter setting\n",
    "\n",
    "After tuning, we set the hyperparameters for the random forest.\n",
    "This example uses `n_estimators=200` with default tree parameters."
   ]
  },
  {
   "cell_type": "code",
   "metadata": {
    "ExecuteTime": {
     "end_time": "2025-02-27T09:52:09.789987Z",
     "start_time": "2025-02-27T09:51:58.175902Z"
    }
   },
   "source": [
    "forest = RandomForestClassifier(random_state = 1,\n",
    "                                n_estimators = 200,\n",
    "                                max_depth = None, \n",
    "                                min_samples_split = 2,  \n",
    "                                min_samples_leaf = 1\n",
    "                               )\n",
    "model = forest.fit(x_train, y_train) \n",
    "y_pred = model.predict(x_test)\n",
    "\n",
    "print(\"accuracy:\", accuracy_score(y_test, y_pred))"
   ],
   "outputs": [
    {
     "name": "stdout",
     "output_type": "stream",
     "text": [
      "accuracy: 0.9942832014072119\n"
     ]
    }
   ],
   "execution_count": 10
  },
  {
   "cell_type": "markdown",
   "metadata": {},
   "source": [
    "## Grid Search\n",
    "\n",
    "Grid search exhaustively tests hyperparameter combinations to find the best model settings.\n",
    "\n",
    ">! Note: long-running time ~ 30 min."
   ]
  },
  {
   "cell_type": "code",
   "metadata": {
    "ExecuteTime": {
     "end_time": "2025-02-27T09:56:19.684452Z",
     "start_time": "2025-02-27T09:52:09.808362Z"
    }
   },
   "source": [
    "# n_estimators = [100, 200, 300, 400, 500]\n",
    "# max_depth = [5, 10, 20, 30, 40, 50]\n",
    "# min_samples_split = [2, 5, 10, 15, 20]\n",
    "# min_samples_leaf = [1, 2, 5, 10]\n",
    "\n",
    "n_estimators = [100, 200]\n",
    "max_depth = [5, 10, 20, 30]\n",
    "min_samples_split = [2, 5, 10]\n",
    "min_samples_leaf = [1, 2, 5]\n",
    "\n",
    "hyper = dict(n_estimators = n_estimators, \n",
    "             max_depth = max_depth,  \n",
    "             min_samples_split = min_samples_split, \n",
    "             min_samples_leaf = min_samples_leaf\n",
    "            )\n",
    "gs = GridSearchCV(forest, hyper, cv=3, verbose=1, n_jobs=-1)\n",
    "\n",
    "best = gs.fit(x_train, y_train)\n",
    "print(\"best:\", best)"
   ],
   "outputs": [
    {
     "name": "stdout",
     "output_type": "stream",
     "text": [
      "Fitting 3 folds for each of 72 candidates, totalling 216 fits\n",
      "GridSearchCV(cv=3,\n",
      "             estimator=RandomForestClassifier(n_estimators=200, random_state=1),\n",
      "             n_jobs=-1,\n",
      "             param_grid={'max_depth': [5, 10, 20, 30],\n",
      "                         'min_samples_leaf': [1, 2, 5],\n",
      "                         'min_samples_split': [2, 5, 10],\n",
      "                         'n_estimators': [100, 200]},\n",
      "             verbose=1)\n"
     ]
    }
   ],
   "execution_count": 11
  },
  {
   "cell_type": "markdown",
   "metadata": {},
   "source": [
    "## The best model\n",
    "\n",
    "The final model is trained using the best hyperparameters found.\n",
    "This model is expected to generalize better and yield higher accuracy."
   ]
  },
  {
   "cell_type": "code",
   "metadata": {
    "ExecuteTime": {
     "end_time": "2025-02-27T09:56:31.914896Z",
     "start_time": "2025-02-27T09:56:19.834794Z"
    }
   },
   "source": [
    "forest = RandomForestClassifier(n_estimators=200, random_state=1)\n",
    "model = forest.fit(x_train, y_train)\n",
    "y_pred = model.predict(x_test)\n",
    "\n",
    "print(\"accuracy:\", accuracy_score(y_test, y_pred))"
   ],
   "outputs": [
    {
     "name": "stdout",
     "output_type": "stream",
     "text": [
      "0.9942832014072119\n"
     ]
    }
   ],
   "execution_count": 12
  },
  {
   "cell_type": "markdown",
   "metadata": {},
   "source": [
    "# Homework (just) to think about:\n",
    "https://scikit-learn.org/stable/modules/generated/sklearn.ensemble.RandomForestClassifier.html\n",
    "\n",
    "- different split ratio 65:35, 70:30, 75:25, 80:20\n",
    "- different hyperpamater settings\n",
    "- different criterion{\"gini\", \"entropy\"}\n",
    "- different classifiers\n",
    "- different metrics\n",
    "- different datasets\n",
    "\n",
    "### **The Quest**\n",
    "- What is the best model?\n",
    "- Is the score good enough?\n",
    "- Do we need more tuning for this concrete case?\n",
    "\n",
    "### **Auxiliaries**\n",
    "- Nice visualizations of data and/or results"
   ]
  }
 ],
 "metadata": {
  "kernelspec": {
   "display_name": "Python 3 (ipykernel)",
   "language": "python",
   "name": "python3"
  },
  "language_info": {
   "codemirror_mode": {
    "name": "ipython",
    "version": 3
   },
   "file_extension": ".py",
   "mimetype": "text/x-python",
   "name": "python",
   "nbconvert_exporter": "python",
   "pygments_lexer": "ipython3",
   "version": "3.9.15"
  }
 },
 "nbformat": 4,
 "nbformat_minor": 4
}

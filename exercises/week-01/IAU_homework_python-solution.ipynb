{
 "cells": [
  {
   "cell_type": "markdown",
   "metadata": {
    "colab_type": "text",
    "id": "PE4ExuwJjYZl"
   },
   "source": [
    "# Introduction to Python: Solution"
   ]
  },
  {
   "cell_type": "code",
   "execution_count": null,
   "metadata": {
    "colab": {},
    "colab_type": "code",
    "id": "m7dnZNjx26I_"
   },
   "outputs": [],
   "source": [
    "# -*- coding: utf-8 -*-\n",
    "#\n",
    "# Licensed under the Apache License, Version 2.0 (the \"License\");\n",
    "# you may not use this file except in compliance with the License.\n",
    "# You may obtain a copy of the License at\n",
    "#\n",
    "#    http://www.apache.org/licenses/LICENSE-2.0\n",
    "#\n",
    "# Unless required by applicable law or agreed to in writing, software\n",
    "# distributed under the License is distributed on an \"AS IS\" BASIS,\n",
    "# WITHOUT WARRANTIES OR CONDITIONS OF ANY KIND, either express or\n",
    "# implied.\n",
    "# See the License for the specific language governing permissions and\n",
    "# limitations under the License.\n",
    "#"
   ]
  },
  {
   "cell_type": "markdown",
   "metadata": {
    "colab_type": "text",
    "id": "wtQeTdrV4kO_"
   },
   "source": [
    "Official python tutorial: [https://docs.python.org/3.8/tutorial/index.html](https://docs.python.org/3.8/tutorial/index.html) \n",
    "\n",
    "URL [https://github.com/jerry-git/learn-python3](https://github.com/jerry-git/learn-python3)"
   ]
  },
  {
   "cell_type": "markdown",
   "metadata": {
    "colab_type": "text",
    "id": "NNi-uBwHfdk0"
   },
   "source": [
    "## Task 1"
   ]
  },
  {
   "cell_type": "markdown",
   "metadata": {
    "colab_type": "text",
    "id": "X3eHvejdfgWj"
   },
   "source": [
    "You are given an array of strings:"
   ]
  },
  {
   "cell_type": "code",
   "execution_count": null,
   "metadata": {
    "colab": {},
    "colab_type": "code",
    "id": "1qj5175CfnTd"
   },
   "outputs": [],
   "source": [
    "array_to_split = [\"Fiit\", \"fiit\", \"megadlhystring!!!\", \"autobiografia\", \"Alica\", \"python\", \"pip\", \"env\", \"jupyter\", \"IAU\"]"
   ]
  },
  {
   "cell_type": "markdown",
   "metadata": {
    "colab_type": "text",
    "id": "RaGmXpqghnQW"
   },
   "source": [
    "Write a function that, for the given array of strings, returns a new array containing only strings at prime indices. Then call this function with the field declared above as a parameter."
   ]
  },
  {
   "cell_type": "code",
   "execution_count": null,
   "metadata": {
    "colab": {},
    "colab_type": "code",
    "id": "W8ed3W40h529"
   },
   "outputs": [],
   "source": [
    "# Place for your code (2021 Bublavy)\n",
    "def is_prime(number: int):\n",
    "    if number <= 1:\n",
    "        return False\n",
    "    \n",
    "    for i in range(2, number - 1, 1):\n",
    "        if number % i == 0:\n",
    "            return False\n",
    "    \n",
    "    return True\n",
    "\n",
    "for index in range(len(array_to_split)):\n",
    "    if is_prime(index):\n",
    "        print(index, array_to_split[index])"
   ]
  },
  {
   "cell_type": "markdown",
   "metadata": {
    "colab_type": "text",
    "id": "OsdZWqFsfvgk"
   },
   "source": [
    "Write a program that divides the above declared array into 3 new arrays, where in one array there will be strings of length less than 5. In the second array, strings of length between 5 and 10 (inclusive) and strings starting with the letter \"a\" or any uppercase letter while string of any length. In the third field, all other things."
   ]
  },
  {
   "cell_type": "code",
   "execution_count": null,
   "metadata": {
    "colab": {},
    "colab_type": "code",
    "id": "19OHF7shiDI9"
   },
   "outputs": [],
   "source": [
    "# Place for your code (2021 Adamcova)\n",
    "array_to_split = [\"Fiit\", \"fiit\", \"megadlhystring!!!\", \"autobiografia\", \"Alica\", \"python\", \"pip\", \"env\", \"jupyter\", \"IAU\"]\n",
    "first = []\n",
    "second = []\n",
    "third = []\n",
    "for item in array_to_split:\n",
    "    if len(item) < 5:\n",
    "        first.append(item)\n",
    "    if ((len(item) >= 5 and len(item) < 11) and item.startswith('a')) or item[0].isupper():\n",
    "        second.append(item)\n",
    "    else:\n",
    "        third.append(item)\n",
    "print(first)\n",
    "print(second)\n",
    "print(third)"
   ]
  },
  {
   "cell_type": "markdown",
   "metadata": {
    "colab_type": "text",
    "id": "-sZ6ISJMp1bR"
   },
   "source": [
    "## Task 2"
   ]
  },
  {
   "cell_type": "markdown",
   "metadata": {
    "colab_type": "text",
    "id": "MzlqAVbwp4qL"
   },
   "source": [
    "We have entered an array of numbers of type Interger (int)."
   ]
  },
  {
   "cell_type": "code",
   "execution_count": null,
   "metadata": {
    "colab": {},
    "colab_type": "code",
    "id": "9dEavPgJp7b1"
   },
   "outputs": [],
   "source": [
    "array = [1, 4, 5, 1, 7, 5, 1, 5, 4, 2, 3, 4]\n",
    "# array = [1,2,3,4,5,5,6,6,4,4,5,5,12,12,1,1,1,1,1,2,1]\n",
    "# array = [1,1,2,20]"
   ]
  },
  {
   "cell_type": "markdown",
   "metadata": {
    "colab_type": "text",
    "id": "Ie99LXSfqacF"
   },
   "source": [
    "Write a function that tells us, for an array of ints, whether the array can be split into two arrays with the same sum. Then call this function on the field declared above. List two such fields (any that satisfy the condition of equal sum). "
   ]
  },
  {
   "cell_type": "code",
   "execution_count": null,
   "metadata": {},
   "outputs": [],
   "source": [
    "# # Place for your code: (2021 Dlhý - suhlas na zverejnenie)\n",
    "def findEqualSum(arr):\n",
    "    total_sum = sum(arr)\n",
    "    sorted_arr = sorted(arr, reverse=True)\n",
    "    size = len(sorted_arr)\n",
    "    sum1 = 0\n",
    "    sum2 = 0\n",
    "    for index,item in enumerate(sorted_arr):\n",
    "        if (sum1 > sum2):\n",
    "            sum2+=item\n",
    "        else:\n",
    "            sum1+=item\n",
    "    return sum1 == sum2\n",
    "        \n",
    "findEqualSum(array)"
   ]
  },
  {
   "cell_type": "code",
   "execution_count": null,
   "metadata": {},
   "outputs": [],
   "source": [
    "# Place for your code: (2021 Dlhý - suhlas na zverejnenie)\n",
    "def findEqualSumArray(arr):\n",
    "    total_sum = sum(arr)\n",
    "    sorted_arr = sorted(arr, reverse=True)\n",
    "    size = len(sorted_arr)\n",
    "    sum1 = 0; sum1arr = []\n",
    "    sum2 = 0; sum2arr = []\n",
    "    for index,item in enumerate(sorted_arr):\n",
    "        if (sum1 > sum2):\n",
    "            sum2+=item; sum2arr.append(item)\n",
    "        else:\n",
    "            sum1+=item; sum1arr.append(item)\n",
    "    if (sum1 == sum2):\n",
    "        print(f\"Array 1: {sum1arr}, sum = {sum1}\")\n",
    "        print(f\"Array 2: {sum2arr}, sum = {sum2}\")\n",
    "\n",
    "findEqualSumArray(array)"
   ]
  },
  {
   "cell_type": "code",
   "execution_count": null,
   "metadata": {},
   "outputs": [],
   "source": [
    "# Place for your code: (2021 Hradský - suhlas na zverejnenie)\n",
    "def rovnaky_sucet(zoz):\n",
    "    sum_1 = 0\n",
    "    sum_2 = 0\n",
    "    zoz_1 = []\n",
    "    zoz_2 = []\n",
    "    zoz.sort()\n",
    "    zoz.reverse()\n",
    "    for i in zoz:\n",
    "        if sum_1 <= sum_2:\n",
    "            sum_1 += i\n",
    "            zoz_1.append(i)\n",
    "        else:\n",
    "            sum_2 += i\n",
    "            zoz_2.append(i)\n",
    "    if sum_1 == sum_2: \n",
    "        return (zoz_1, sum(zoz_1), zoz_2, sum(zoz_2)) \n",
    "    else: \n",
    "        return False\n",
    "\n",
    "rovnaky_sucet(array)"
   ]
  },
  {
   "cell_type": "code",
   "execution_count": null,
   "metadata": {
    "colab": {},
    "colab_type": "code",
    "id": "OdRvJkGsqrIW"
   },
   "outputs": [],
   "source": [
    "# Place for your code: (2021 - suhlas na zverejnenie bez mena)\n",
    "def najdi_polia(pole):\n",
    "    pole.sort()\n",
    "    sucet = sum(pole)\n",
    "    if sucet % 2 :\n",
    "        print(\"Neda sa rozdelit!!\")\n",
    "        return 0\n",
    "    polovica = sucet / 2\n",
    "    docasny_sucet = 0\n",
    "\n",
    "    pole1 = []\n",
    "    while (docasny_sucet < polovica):\n",
    "        if pole[0] > polovica:\n",
    "            print(\"Neda sa rozdelit!!\")\n",
    "            return 0\n",
    "        pole1.append(pole[0])\n",
    "        docasny_sucet = sum(pole1)\n",
    "        pole.pop(0)\n",
    "\n",
    "    i = 0\n",
    "    if sum(pole1) != polovica:\n",
    "        while pole1[i] != sum(pole1) - polovica:\n",
    "            i += 1\n",
    "        pole.append(pole1[i])\n",
    "        pole1.pop(i)\n",
    "\n",
    "    print(pole1, sum(pole1))\n",
    "\n",
    "najdi_polia(array)\n",
    "print(array, sum(array))"
   ]
  },
  {
   "cell_type": "code",
   "execution_count": null,
   "metadata": {},
   "outputs": [],
   "source": [
    "# Place for your code: (2022 D. Repkovský - všetky kombinácie)\n",
    "from itertools import combinations\n",
    "import numpy\n",
    "\n",
    "def get_partitions(indexes:set[int],arr:list):\n",
    "    res = []\n",
    "    complement = []\n",
    "    arr_len = len(arr)\n",
    "\n",
    "    for i in range(arr_len):\n",
    "        if i in indexes:\n",
    "            res.append(arr[i])\n",
    "        else:\n",
    "            complement.append(arr[i])\n",
    "    return res, complement\n",
    "\n",
    "\n",
    "def sub_lists (arr:list):\n",
    "    result = []\n",
    "    arr_len = len(arr)\n",
    "    half_sum = numpy.sum(arr) / 2\n",
    "\n",
    "    indices_arr = list(range(arr_len))\n",
    "    for i in range(arr_len+1):\n",
    "        for j in combinations(indices_arr, i):\n",
    "            group, complement = get_partitions(set(j),arr)\n",
    "            if numpy.sum(group) == half_sum:\n",
    "                sg = sorted(group)\n",
    "                sc = sorted(complement)\n",
    "                if (sg,sc) not in result:\n",
    "                    result.append((sg,sc))\n",
    "    return result\n",
    "\n",
    "array = [1, 4, 5, 1, 7, 5, 1, 5, 4, 2, 3, 4]\n",
    "# array = [1,2,3,4,5,5,6,6,4,4,5,5,12,12,1,1,1,1,1,2,1]\n",
    "# array = [1,1,2,20]\n",
    "\n",
    "sub_lists(array)"
   ]
  }
 ],
 "metadata": {
  "colab": {
   "collapsed_sections": [],
   "name": "IAU_uvod_do_pythonu.ipynb",
   "provenance": []
  },
  "kernelspec": {
   "display_name": "Python 3 (ipykernel)",
   "language": "python",
   "name": "python3"
  },
  "language_info": {
   "codemirror_mode": {
    "name": "ipython",
    "version": 3
   },
   "file_extension": ".py",
   "mimetype": "text/x-python",
   "name": "python",
   "nbconvert_exporter": "python",
   "pygments_lexer": "ipython3",
   "version": "3.9.18"
  }
 },
 "nbformat": 4,
 "nbformat_minor": 4
}
